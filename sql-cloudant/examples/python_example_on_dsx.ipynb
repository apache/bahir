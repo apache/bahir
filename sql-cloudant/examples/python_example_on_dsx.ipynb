{
 "cells": [
  {
   "cell_type": "markdown",
   "metadata": {},
   "source": [
    "# Cloudant Python Notebook Example\n",
    "\n",
    "This is an example Python Notebook that showcases how to use the sql-cloudant connector. The notebook shows how to:\n",
    "* Connect Spark to a Cloudant database\n",
    "* Read and show the schema and data of the JSON documents\n",
    "* Use SparkSQL to query the data\n",
    "* Graph the data in a chart\n",
    "* Filter the data and save in your own Cloudant database\n",
    "\n",
    "## Useful links\n",
    "\n",
    "* [Cloudant](https://console.ng.bluemix.net/catalog/services/cloudant-nosql-db/) on Bluemix\n",
    "* [Apache Spark-aaS](https://console.ng.bluemix.net/catalog/services/apache-spark/) on Bluemix\n",
    "* [Data Science Experience](https://datascience.ibm.com) on Bluemix\n",
    "* [Apache Bahir sql-cloudant](https://github.com/cloudant-labs/spark-cloudant) Connector\n",
    "* Example Cloudant Database: https://examples.cloudant.com/spark_sales\n",
    "\n"
   ]
  },
  {
   "cell_type": "code",
   "execution_count": 1,
   "metadata": {},
   "outputs": [
    {
     "name": "stdout",
     "output_type": "stream",
     "text": [
      "root\n",
      " |-- _id: string (nullable = true)\n",
      " |-- _rev: string (nullable = true)\n",
      " |-- amount: long (nullable = true)\n",
      " |-- month: string (nullable = true)\n",
      " |-- rep: string (nullable = true)\n",
      "\n"
     ]
    },
    {
     "data": {
      "text/plain": [
       "DataFrame[_id: string, _rev: string, amount: bigint, month: string, rep: string]"
      ]
     },
     "execution_count": 1,
     "metadata": {},
     "output_type": "execute_result"
    }
   ],
   "source": [
    "from pyspark.sql import SparkSession\n",
    "spark = SparkSession.builder.getOrCreate()\n",
    "\n",
    "# Connect to database 'spark_sales' and read schema using _all_docs endpoint\n",
    "# Note: _all_docs endpoint is the default load setting.\n",
    "\n",
    "cloudantdata = spark.read.format(\"org.apache.bahir.cloudant\")\\\n",
    ".option(\"cloudant.host\",\"examples.cloudant.com\")\\\n",
    ".load(\"spark_sales\")\n",
    "\n",
    "# Create Spark session for reading Cloudant data using the _changes endpoint\n",
    "# Read more about when to consider using the _changes endpoint: https://github.com/apache/bahir/blob/master/sql-cloudant/README.md\n",
    "# Note: use \"spark.streaming.unpersist=false\" to persist RDDs throughout the load process.  \n",
    "\n",
    "# spark = SparkSession\\\n",
    "#     .builder\\\n",
    "#     .config(\"cloudant.host\", \"examples.cloudant.com\")\\\n",
    "#     .config(\"cloudant.endpoint\", \"_changes\")\\\n",
    "#     .config(\"spark.streaming.unpersist\", \"false\")\\\n",
    "#     .getOrCreate()\n",
    "\n",
    "# cloudantdata = spark.read.format(\"org.apache.bahir.cloudant\")\\\n",
    "# .option(\"cloudant.host\",\"examples.cloudant.com\")\\\n",
    "# .option(\"cloudant.endpoint\", \"_changes\")\\\n",
    "# .option(\"spark.streaming.unpersist\", \"false\")\\\n",
    "# .load(\"spark_sales\")\n",
    "\n",
    "# Print the schema that was detected\n",
    "cloudantdata.printSchema()\n",
    "\n",
    "# Cache the data\n",
    "cloudantdata.cache()"
   ]
  },
  {
   "cell_type": "code",
   "execution_count": 2,
   "metadata": {},
   "outputs": [
    {
     "name": "stdout",
     "output_type": "stream",
     "text": [
      "Count is 2022\n"
     ]
    }
   ],
   "source": [
    "# Count Data\n",
    "print \"Count is {0}\".format(cloudantdata.count())"
   ]
  },
  {
   "cell_type": "code",
   "execution_count": 3,
   "metadata": {},
   "outputs": [
    {
     "name": "stdout",
     "output_type": "stream",
     "text": [
      "+--------------------+--------------------+-------+--------+---------+\n",
      "|                 _id|                _rev| amount|   month|      rep|\n",
      "+--------------------+--------------------+-------+--------+---------+\n",
      "|0c6d783c1f9164354...|1-23dd4ecb8b93c4b...|8057513|    June|   Ashley|\n",
      "|0c6d783c1f9164354...|1-9a4b9529f635f16...|8353677| January|   Ashley|\n",
      "|0c6d783c1f9164354...|1-a508cfb9d1f2b96...|7065940|    June|     Evan|\n",
      "|0c6d783c1f9164354...|1-faa26d7740ed5df...|9326574|    June|     Evan|\n",
      "|0c6d783c1f9164354...|1-9b9300506cfcd4f...|4578691|December|   Ashley|\n",
      "|0c6d783c1f9164354...|1-67df9938ffde7da...|9430766|   March|    Bella|\n",
      "|0c6d783c1f9164354...|1-247cc348b494dc1...|9510494|   April|   Nathan|\n",
      "|0c6d783c1f9164354...|1-5bc9db6e32ad584...|5676165|    July|Charlotte|\n",
      "|0c6d783c1f9164354...|1-66d253978572afd...|2761221|    June|Charlotte|\n",
      "|0c6d783c1f9164354...|1-274b3e1b7746dcb...|9658504| October|   Ashley|\n",
      "|0c6d783c1f9164354...|1-4e1c44d2cb529e7...|7794029| January|   Nathan|\n",
      "|0c6d783c1f9164354...|1-c24c65aa33ec830...|3568656|    July|   Ashley|\n",
      "|0c6d783c1f9164354...|1-710d18bd728f987...|7358230|December|     Evan|\n",
      "|0c6d783c1f9164354...|1-74d090e9741f7a8...|5281803| October|   Ashley|\n",
      "|0c6d783c1f9164354...|1-b962212bda33a00...|3292017|November|   Ashley|\n",
      "|0c6d783c1f9164354...|1-cacc6163762fde2...|9102845|   April|Charlotte|\n",
      "|0c6d783c1f9164354...|1-c4c067a585c0f7e...|9729944|February|     Evan|\n",
      "|0c6d783c1f9164354...|1-b517518ec76a1b0...|1042097|  August|     Evan|\n",
      "|0c6d783c1f9164354...|1-edc932dc4579307...|7403745|   March|    Bella|\n",
      "|0c6d783c1f9164354...|1-110430ff98b8c4d...|2053464|  August|    Bella|\n",
      "+--------------------+--------------------+-------+--------+---------+\n",
      "only showing top 20 rows\n",
      "\n",
      "+--------------------+--------------------+-------+--------+------+\n",
      "|                 _id|                _rev| amount|   month|   rep|\n",
      "+--------------------+--------------------+-------+--------+------+\n",
      "|0c6d783c1f9164354...|1-23dd4ecb8b93c4b...|8057513|    June|Ashley|\n",
      "|0c6d783c1f9164354...|1-9a4b9529f635f16...|8353677| January|Ashley|\n",
      "|0c6d783c1f9164354...|1-a508cfb9d1f2b96...|7065940|    June|  Evan|\n",
      "|0c6d783c1f9164354...|1-faa26d7740ed5df...|9326574|    June|  Evan|\n",
      "|0c6d783c1f9164354...|1-9b9300506cfcd4f...|4578691|December|Ashley|\n",
      "+--------------------+--------------------+-------+--------+------+\n",
      "only showing top 5 rows\n",
      "\n",
      "+------+\n",
      "|   rep|\n",
      "+------+\n",
      "|Ashley|\n",
      "|Ashley|\n",
      "|  Evan|\n",
      "|  Evan|\n",
      "|Ashley|\n",
      "+------+\n",
      "only showing top 5 rows\n",
      "\n"
     ]
    }
   ],
   "source": [
    "# Print Data\n",
    "\n",
    "# Show 20 as default\n",
    "cloudantdata.show()\n",
    "\n",
    "# Show 5\n",
    "cloudantdata.show(5)\n",
    "\n",
    "# Show the rep field for 5\n",
    "cloudantdata.select(\"rep\").show(5)"
   ]
  },
  {
   "cell_type": "code",
   "execution_count": 4,
   "metadata": {},
   "outputs": [
    {
     "name": "stdout",
     "output_type": "stream",
     "text": [
      "+---------+-----+----------+\n",
      "|      REP|COUNT|    AMOUNT|\n",
      "+---------+-----+----------+\n",
      "|Charlotte|  408|2150072136|\n",
      "|   Nathan|  399|2128777269|\n",
      "|     Evan|  403|2122787250|\n",
      "|   Ashley|  406|2109849878|\n",
      "|    Bella|  406|2091567518|\n",
      "+---------+-----+----------+\n",
      "\n",
      "+---------+----------+\n",
      "|    MONTH|    AMOUNT|\n",
      "+---------+----------+\n",
      "|     June|1006655547|\n",
      "|    March| 965554387|\n",
      "| February| 949894161|\n",
      "|      May| 895723365|\n",
      "|  January| 883823633|\n",
      "|     July| 881441469|\n",
      "|  October| 879310075|\n",
      "|   August| 866259553|\n",
      "|    April| 851319642|\n",
      "|September| 838826558|\n",
      "| November| 795484324|\n",
      "| December| 788761337|\n",
      "+---------+----------+\n",
      "\n"
     ]
    }
   ],
   "source": [
    "# Run SparkSQL to get COUNTs and SUMs and do ORDER BY VALUE examples\n",
    "\n",
    "# Register a temp table sales_table on the cloudantdata data frame\n",
    "cloudantdata.registerTempTable(\"sales_table\")\n",
    "\n",
    "# Run SparkSQL to get a count and total amount of sales by rep\n",
    "sqlContext.sql(\"SELECT rep AS REP, COUNT(amount) AS COUNT, SUM(amount) AS AMOUNT FROM sales_table GROUP BY rep ORDER BY SUM(amount) DESC\").show(100)\n",
    "\n",
    "# Run SparkSQL to get total amount of sales by month\n",
    "sqlContext.sql(\"SELECT month AS MONTH, SUM(amount) AS AMOUNT FROM sales_table GROUP BY month ORDER BY SUM(amount) DESC\").show()"
   ]
  },
  {
   "cell_type": "code",
   "execution_count": 5,
   "metadata": {
    "scrolled": false
   },
   "outputs": [
    {
     "data": {
      "image/png": "[encoded data removed]",
      "text/plain": [
       "<matplotlib.figure.Figure at 0x7f2c4a46dc50>"
      ]
     },
     "metadata": {},
     "output_type": "display_data"
    }
   ],
   "source": [
    "# Graph the Monthly Sales  \n",
    "\n",
    "import pandas as pd\n",
    "import matplotlib.pyplot as plt\n",
    "%matplotlib inline\n",
    "\n",
    "pandaDF = sqlContext.sql(\"SELECT month AS MONTH, SUM(amount) AS AMOUNT FROM sales_table GROUP BY month ORDER BY SUM(amount) DESC\").toPandas()\n",
    "values = pandaDF['AMOUNT']\n",
    "labels = pandaDF['MONTH']\n",
    "plt.gcf().set_size_inches(16, 12, forward=True)\n",
    "plt.title('Total Sales by Month')\n",
    "plt.barh(range(len(values)), values)\n",
    "plt.yticks(range(len(values)), labels)\n",
    "plt.show()"
   ]
  },
  {
   "cell_type": "code",
   "execution_count": 6,
   "metadata": {},
   "outputs": [
    {
     "name": "stdout",
     "output_type": "stream",
     "text": [
      "Total Count is 33\n",
      "+--------------------+--------------------+-------+---------+---------+\n",
      "|                 _id|                _rev| amount|    month|      rep|\n",
      "+--------------------+--------------------+-------+---------+---------+\n",
      "|0c6d783c1f9164354...|1-29e336f06e3f031...|4040415|September|Charlotte|\n",
      "|0c6d783c1f9164354...|1-03033ae617f6bf9...|7391421|September|Charlotte|\n",
      "|647dce3993599dbd1...|1-ec9322134c75ed4...|4054322|September|Charlotte|\n",
      "|647dce3993599dbd1...|1-ca8ab5bf6217ec2...|4517007|September|Charlotte|\n",
      "|647dce3993599dbd1...|1-275d7d2f358072b...|8692972|September|Charlotte|\n",
      "+--------------------+--------------------+-------+---------+---------+\n",
      "only showing top 5 rows\n",
      "\n"
     ]
    }
   ],
   "source": [
    "# Filter, Count, Show, and Save Data\n",
    "\n",
    "# Filter data for the rep 'Charlotte' and month of 'September'\n",
    "filteredCloudantData = cloudantdata.filter(\"rep = 'Charlotte' AND month = 'September'\")\n",
    "\n",
    "# Count filtered data\n",
    "print \"Total Count is {0}\".format(filteredCloudantData.count())\n",
    "\n",
    "# Show filtered data\n",
    "filteredCloudantData.show(5)"
   ]
  },
  {
   "cell_type": "code",
   "execution_count": 7,
   "metadata": {},
   "outputs": [],
   "source": [
    "# Saving the amount, month, and rep fields from the filtered data to a new Cloudant database 'sales_charlotte_september'\n",
    "filteredCloudantData.select(\"amount\",\"month\",\"rep\").write.format(\"org.apache.bahir.cloudant\")\\\n",
    ".option(\"cloudant.host\",\"USERNAME.cloudant.com\")\\\n",
    ".option(\"cloudant.username\", \"USERNAME\")\\\n",
    ".option(\"cloudant.password\",\"PASSWORD\")\\\n",
    ".option(\"createDBOnSave\", \"true\")\\\n",
    ".save(\"sales_charlotte_september\")"
   ]
  }
 ],
 "metadata": {
  "kernelspec": {
   "display_name": "Python 2 with Spark 2.1",
   "language": "python",
   "name": "python2-spark21"
  },
  "language_info": {
   "codemirror_mode": {
    "name": "ipython",
    "version": 2
   },
   "file_extension": ".py",
   "mimetype": "text/x-python",
   "name": "python",
   "nbconvert_exporter": "python",
   "pygments_lexer": "ipython2",
   "version": "2.7.11"
  }
 },
 "nbformat": 4,
 "nbformat_minor": 1
}
